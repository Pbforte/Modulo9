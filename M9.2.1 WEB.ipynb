{
 "cells": [
  {
   "cell_type": "code",
   "execution_count": 3,
   "id": "f3c7ed8b-3db3-4bd6-bb02-1384568437fa",
   "metadata": {},
   "outputs": [],
   "source": [
    "from bs4 import BeautifulSoup\n",
    "import requests "
   ]
  },
  {
   "cell_type": "code",
   "execution_count": 7,
   "id": "2d08846b-f617-4dcf-a68e-a19911bd8929",
   "metadata": {},
   "outputs": [],
   "source": [
    "#Descargar pag web\n",
    "url = \"https://cf-courses-data.s3.us.cloud-object-storage.appdomain.cloud/IBM-DA0321EN-SkillsNetwork/labs/datasets/Programming_Languages.html\""
   ]
  },
  {
   "cell_type": "code",
   "execution_count": 9,
   "id": "54bc9a61-9454-45fd-932e-0efd6f58d076",
   "metadata": {},
   "outputs": [],
   "source": [
    "data = requests.get(url).text"
   ]
  },
  {
   "cell_type": "code",
   "execution_count": 11,
   "id": "47f94513-db1f-4c3b-ab73-72902a7311b9",
   "metadata": {},
   "outputs": [],
   "source": [
    "#Soup poryecto\n",
    "soup = BeautifulSoup(data, \"html.parser\")"
   ]
  },
  {
   "cell_type": "code",
   "execution_count": 27,
   "id": "e6eb36f2-848a-482c-bb87-e7c65914ba15",
   "metadata": {},
   "outputs": [
    {
     "name": "stdout",
     "output_type": "stream",
     "text": [
      "Lenguaje: Python, Salario Anual Promedio: $114,383\n",
      "Lenguaje: Java, Salario Anual Promedio: $101,013\n",
      "Lenguaje: R, Salario Anual Promedio: $92,037\n",
      "Lenguaje: Javascript, Salario Anual Promedio: $110,981\n",
      "Lenguaje: Swift, Salario Anual Promedio: $130,801\n",
      "Lenguaje: C++, Salario Anual Promedio: $113,865\n",
      "Lenguaje: C#, Salario Anual Promedio: $88,726\n",
      "Lenguaje: PHP, Salario Anual Promedio: $84,727\n",
      "Lenguaje: SQL, Salario Anual Promedio: $84,793\n",
      "Lenguaje: Go, Salario Anual Promedio: $94,082\n"
     ]
    }
   ],
   "source": [
    "#Lenguaje de programación y salario anual romedio \n",
    "\n",
    "# Buscar tabla\n",
    "table = soup.find(\"table\")\n",
    "\n",
    "#Sacar datos\n",
    "data = []\n",
    "for row in table.find_all(\"tr\")[1:]:  \n",
    "    cols = row.find_all(\"td\")\n",
    "    language = cols[1].text.strip()  \n",
    "    salary = cols[3].text.strip()  \n",
    "    data.append([language, salary])\n",
    "\n",
    "for item in data:\n",
    "    print(f\"Lenguaje: {item[0]}, Salario Anual Promedio: {item[1]}\")"
   ]
  },
  {
   "cell_type": "code",
   "execution_count": 31,
   "id": "6bf0362c-e27d-4a8d-9ea1-8c055fbbec92",
   "metadata": {},
   "outputs": [
    {
     "name": "stdout",
     "output_type": "stream",
     "text": [
      "Archivo guardado como 'popular-languages.csv'\n"
     ]
    }
   ],
   "source": [
    "#salvar y extraer en csv\n",
    "import pandas as pd\n",
    "\n",
    "df = pd.DataFrame(data, columns=[\"Language\", \"Annual Salary\"])\n",
    "\n",
    "df.to_csv(\"popular-languages.csv\", index=False)\n",
    "\n",
    "print(\"Archivo guardado como 'popular-languages.csv'\")"
   ]
  },
  {
   "cell_type": "code",
   "execution_count": 33,
   "id": "c3869add-6e68-47c2-a66d-5dc572370b15",
   "metadata": {},
   "outputs": [],
   "source": [
    "#descargarlo \n",
    "\n",
    "df.to_csv(r\"C:\\Users\\Patricia\\Desktop\\cursos\\IBM DATA ANALYST\\MODULO 9\\popular-lenguages.csv\", index=False)"
   ]
  },
  {
   "cell_type": "code",
   "execution_count": null,
   "id": "9cf5bd6b-df4e-4e0e-9735-4c0472f2bf28",
   "metadata": {},
   "outputs": [],
   "source": []
  }
 ],
 "metadata": {
  "kernelspec": {
   "display_name": "Python [conda env:proyecto]",
   "language": "python",
   "name": "conda-env-proyecto-py"
  },
  "language_info": {
   "codemirror_mode": {
    "name": "ipython",
    "version": 3
   },
   "file_extension": ".py",
   "mimetype": "text/x-python",
   "name": "python",
   "nbconvert_exporter": "python",
   "pygments_lexer": "ipython3",
   "version": "3.12.9"
  }
 },
 "nbformat": 4,
 "nbformat_minor": 5
}
