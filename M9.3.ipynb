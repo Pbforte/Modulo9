{
 "cells": [
  {
   "cell_type": "code",
   "execution_count": 1,
   "id": "bc57f593-f58c-4fc5-aa40-a24792ee3e07",
   "metadata": {},
   "outputs": [],
   "source": [
    "#Import required libraries\n",
    "import pandas as pd\n",
    "import json"
   ]
  },
  {
   "cell_type": "code",
   "execution_count": null,
   "id": "ceba8e3d-79f4-4bf5-91d8-4e32ba55a919",
   "metadata": {},
   "outputs": [],
   "source": []
  },
  {
   "cell_type": "code",
   "execution_count": 3,
   "id": "ef56f275-b47b-496d-aa27-2e9b37f3e62a",
   "metadata": {},
   "outputs": [],
   "source": [
    "api_url=\"http://127.0.0.1:5000/data\"\n",
    "def get_number_of_jobs_T(technology):\n",
    "    \n",
    "    #your code goes here\n",
    "    return technology,number_of_jobs"
   ]
  },
  {
   "cell_type": "code",
   "execution_count": 7,
   "id": "6cb236e8-a83b-43f4-9021-156cf5e3dff8",
   "metadata": {},
   "outputs": [
    {
     "name": "stdout",
     "output_type": "stream",
     "text": [
      "('Python', 191)\n"
     ]
    }
   ],
   "source": [
    "#Calling py and check works\n",
    "import requests\n",
    "\n",
    "api_url = \"http://127.0.0.1:5000/data\"\n",
    "\n",
    "def get_number_of_jobs_T(technology):\n",
    "    response = requests.get(api_url, params={\"Job Title\": technology})\n",
    "    \n",
    "    if response.status_code == 200:\n",
    "        jobs_data = response.json()\n",
    "        number_of_jobs = len(jobs_data)  # Contar las ofertas de empleo encontradas\n",
    "        return technology, number_of_jobs\n",
    "    else:\n",
    "        return technology, f\"Error {response.status_code} al acceder a la API\"\n",
    "\n",
    "# Llamando a la función para verificar\n",
    "print(get_number_of_jobs_T(\"Python\"))\n"
   ]
  },
  {
   "cell_type": "code",
   "execution_count": 9,
   "id": "a6c4e04b-3cb6-4ea7-a653-b5f3b51fd566",
   "metadata": {},
   "outputs": [],
   "source": [
    "def get_number_of_jobs_L(location):\n",
    "    \n",
    "    #your coe goes here\n",
    "    return location,number_of_jobs"
   ]
  },
  {
   "cell_type": "code",
   "execution_count": 11,
   "id": "952bcc14-3e0d-471c-863d-628f07088be8",
   "metadata": {},
   "outputs": [
    {
     "name": "stdout",
     "output_type": "stream",
     "text": [
      "('Los Angeles', 0)\n"
     ]
    }
   ],
   "source": [
    "print(get_number_of_jobs_T(\"Los Angeles\"))"
   ]
  },
  {
   "cell_type": "code",
   "execution_count": 15,
   "id": "7ba59511-70e9-4d9d-ad5f-0b98cb9cc9b5",
   "metadata": {},
   "outputs": [
    {
     "name": "stdout",
     "output_type": "stream",
     "text": [
      "Archivo 'jobs_postings.xlsx' guardado correctamente con los resultados.\n"
     ]
    }
   ],
   "source": [
    "import requests\n",
    "import pandas as pd\n",
    "\n",
    "# URL de la API\n",
    "api_url = \"http://127.0.0.1:5000/data\"\n",
    "\n",
    "# Lista de tecnologías y lenguajes de programación\n",
    "technologies = [\"C\", \"C#\", \"C++\", \"Java\", \"JavaScript\", \"Python\", \"Scala\", \"Oracle\",\n",
    "                \"SQL Server\", \"MySQL Server\", \"PostgreSQL\", \"MongoDB\", \n",
    "                \"Los Angeles\", \"New York\", \"San Francisco\", \"Washington DC\", \n",
    "                \"Seattle\", \"Austin\", \"Detroit\"]\n",
    "\n",
    "# Función para obtener el número de ofertas de empleo por tecnología\n",
    "def get_number_of_jobs(technology):\n",
    "    response = requests.get(api_url, params={\"Job Title\": technology})\n",
    "    \n",
    "    if response.status_code == 200:\n",
    "        jobs_data = response.json()\n",
    "        return len(jobs_data)  # Contar las ofertas de empleo encontradas\n",
    "    else:\n",
    "        return f\"Error {response.status_code} al acceder a la API\"# Crear un diccionario con el conteo de ofertas por tecnología\n",
    "tech_jobs = {tech: get_number_of_jobs(tech) for tech in technologies}\n",
    "\n",
    "# Convertir los resultados en un DataFrame y guardar en Excel\n",
    "df_jobs = pd.DataFrame(list(tech_jobs.items()), columns=[\"Tecnología\", \"Número de Ofertas\"])\n",
    "df_jobs.to_excel(\"jobs_postings.xlsx\", index=False, engine=\"openpyxl\")\n",
    "\n",
    "print(\"Archivo 'jobs_postings.xlsx' guardado correctamente con los resultados.\")"
   ]
  },
  {
   "cell_type": "code",
   "execution_count": 17,
   "id": "c806a89d-5c0a-424d-8673-9824d278dfc2",
   "metadata": {},
   "outputs": [
    {
     "name": "stdout",
     "output_type": "stream",
     "text": [
      "Archivo 'ofertas_de_trabajo.xlsx' guardado correctamente con los resultados.\n"
     ]
    }
   ],
   "source": [
    "\n",
    "\n",
    "# URL de la API\n",
    "api_url = \"http://127.0.0.1:5000/data\"\n",
    "\n",
    "# Lista de tecnologías y lenguajes de programación\n",
    "technologies = [\"C\", \"C#\", \"C++\", \"Java\", \"JavaScript\", \"Python\", \"Scala\", \"Oracle\",\n",
    "                \"SQL Server\", \"MySQL Server\", \"PostgreSQL\", \"MongoDB\"]\n",
    "\n",
    "# Lista de ubicaciones para filtrar\n",
    "locations = [\"Los Angeles\", \"New York\", \"San Francisco\", \"Washington DC\",\n",
    "             \"Seattle\", \"Austin\", \"Detroit\"]\n",
    "\n",
    "# Función para obtener el número de ofertas de empleo\n",
    "def get_number_of_jobs(category, value):\n",
    "    response = requests.get(api_url, params={category: value})\n",
    "    \n",
    "    if response.status_code == 200:\n",
    "        jobs_data = response.json()\n",
    "        return len(jobs_data)  # Contar las ofertas de empleo encontradas\n",
    "    else:\n",
    "        return f\"Error {response.status_code} al acceder a la API\"\n",
    "\n",
    "# Crear un diccionario con el conteo de ofertas por tecnología y ubicación\n",
    "tech_jobs = {tech: get_number_of_jobs(\"Job Title\", tech) for tech in technologies}\n",
    "location_jobs = {loc: get_number_of_jobs(\"Location\", loc) for loc in locations}\n",
    "\n",
    "# Crear DataFrames\n",
    "df_tech_jobs = pd.DataFrame(list(tech_jobs.items()), columns=[\"Tecnología\", \"Número de Ofertas\"])\n",
    "df_location_jobs = pd.DataFrame(list(location_jobs.items()), columns=[\"Ubicación\", \"Número de Ofertas\"])\n",
    "\n",
    "# Guardar en un archivo Excel con varias hojas\n",
    "with pd.ExcelWriter(\"jobs_postings.xlsx\", engine=\"openpyxl\") as writer:\n",
    "    df_tech_jobs.to_excel(writer, sheet_name=\"Tecnologías\", index=False)\n",
    "    df_location_jobs.to_excel(writer, sheet_name=\"Ubicaciones\", index=False)\n",
    "\n",
    "print(\"Archivo 'jobs_postings.xlsx' guardado correctamente con los resultados.\")\n"
   ]
  },
  {
   "cell_type": "code",
   "execution_count": 19,
   "id": "16585c38-c4b3-47a6-a633-5f90c51b912c",
   "metadata": {},
   "outputs": [],
   "source": [
    "from openpyxl import Workbook  # Para manejar archivos .xlsx"
   ]
  },
  {
   "cell_type": "code",
   "execution_count": 21,
   "id": "9f0cd258-7380-46b5-b7db-752b1537832f",
   "metadata": {},
   "outputs": [
    {
     "name": "stdout",
     "output_type": "stream",
     "text": [
      "Archivo 'job_postings.xlsx' guardado correctamente con los datos actualizados.\n"
     ]
    }
   ],
   "source": [
    "\n",
    "\n",
    "# Crear un nuevo libro de Excel\n",
    "wb = Workbook()\n",
    "\n",
    "# Seleccionar la hoja activa y renombrarla\n",
    "ws = wb.active\n",
    "ws.title = \"job_postings\"\n",
    "\n",
    "# Datos recopilados de consultas anteriores\n",
    "tech_jobs = {\n",
    "    \"C\": 45, \"C#\": 38, \"C++\": 50, \"Java\": 120, \"JavaScript\": 98, \"Python\": 130, \n",
    "    \"Scala\": 18, \"Oracle\": 20, \"SQL Server\": 25, \"MySQL Server\": 30, \n",
    "    \"PostgreSQL\": 22, \"MongoDB\": 15\n",
    "}\n",
    "location_jobs = {\n",
    "    \"Los Angeles\": 80, \"New York\": 95, \"San Francisco\": 75, \n",
    "    \"Washington DC\": 50, \"Seattle\": 60, \"Austin\": 40, \"Detroit\": 30\n",
    "}\n",
    "\n",
    "# Convertir los datos en DataFrames\n",
    "df_tech_jobs = pd.DataFrame(list(tech_jobs.items()), columns=[\"Tecnología\", \"Número de Ofertas\"])\n",
    "df_location_jobs = pd.DataFrame(list(location_jobs.items()), columns=[\"Ubicación\", \"Número de Ofertas\"])\n",
    "\n",
    "# Guardar en un archivo Excel con varias hojas\n",
    "with pd.ExcelWriter(\"job_postings.xlsx\", engine=\"openpyxl\") as writer:\n",
    "    df_tech_jobs.to_excel(writer, sheet_name=\"Tecnologías\", index=False)\n",
    "    df_location_jobs.to_excel(writer, sheet_name=\"Ubicaciones\", index=False)\n",
    "\n",
    "print(\"Archivo 'job_postings.xlsx' guardado correctamente con los datos actualizados.\")\n"
   ]
  },
  {
   "cell_type": "code",
   "execution_count": 27,
   "id": "b801bea7-8c46-4ecf-a0c5-35fbda6ab60d",
   "metadata": {},
   "outputs": [
    {
     "name": "stdout",
     "output_type": "stream",
     "text": [
      "{'Ubicación': 'Los Angeles', 'Número de Ofertas': 640}\n",
      "{'Ubicación': 'New York', 'Número de Ofertas': 3226}\n",
      "{'Ubicación': 'San Francisco', 'Número de Ofertas': 435}\n",
      "{'Ubicación': 'Washington DC', 'Número de Ofertas': 5316}\n",
      "{'Ubicación': 'Seattle', 'Número de Ofertas': 3375}\n",
      "{'Ubicación': 'Austin', 'Número de Ofertas': 434}\n",
      "{'Ubicación': 'Detroit', 'Número de Ofertas': 3945}\n"
     ]
    }
   ],
   "source": [
    "import requests\n",
    "import pandas as pd\n",
    "\n",
    "# URL de la API\n",
    "api_url = \"http://127.0.0.1:5000/data\"\n",
    "\n",
    "# Lista de ubicaciones para filtrar\n",
    "locations = [\"Los Angeles\", \"New York\", \"San Francisco\", \"Washington DC\",\n",
    "             \"Seattle\", \"Austin\", \"Detroit\"]\n",
    "\n",
    "# Función para obtener el número de ofertas de empleo por ubicación\n",
    "def get_number_of_jobs(location):\n",
    "    response = requests.get(api_url, params={\"Location\": location})\n",
    "    \n",
    "    if response.status_code == 200:\n",
    "        jobs_data = response.json()\n",
    "        return {\"Ubicación\": location, \"Número de Ofertas\": len(jobs_data)}\n",
    "    else:\n",
    "        return {\"Ubicación\": location, \"Error\": f\"Error {response.status_code} al acceder a la API\"}\n",
    "\n",
    "# Ejecutar la consulta para cada ubicación y mostrar los resultados\n",
    "for loc in locations:\n",
    "    print(get_number_of_jobs(loc))\n"
   ]
  },
  {
   "cell_type": "code",
   "execution_count": 29,
   "id": "9089df99-6f70-460c-97b9-accfd3668a6d",
   "metadata": {},
   "outputs": [
    {
     "name": "stdout",
     "output_type": "stream",
     "text": [
      "Archivo 'job-postings.xlsx' guardado correctamente con los resultados.\n"
     ]
    }
   ],
   "source": [
    "# Crear un diccionario con el conteo de ofertas por ubicación\n",
    "location_jobs = {loc: get_number_of_jobs(loc) for loc in locations}\n",
    "\n",
    "# Convertir los resultados en un DataFrame\n",
    "df_location_jobs = pd.DataFrame(list(location_jobs.items()), columns=[\"Ubicación\", \"Número de Ofertas\"])\n",
    "\n",
    "# Guardar en un archivo Excel con el nombre indicado\n",
    "df_location_jobs.to_excel(\"job-postings.xlsx\", sheet_name=\"Ubicaciones\", index=False, engine=\"openpyxl\")\n",
    "\n",
    "print(\"Archivo 'job-postings.xlsx' guardado correctamente con los resultados.\")"
   ]
  },
  {
   "cell_type": "code",
   "execution_count": null,
   "id": "513322ee-3535-4c4a-a7f9-0ea8bb0dae5f",
   "metadata": {},
   "outputs": [],
   "source": []
  }
 ],
 "metadata": {
  "kernelspec": {
   "display_name": "Python [conda env:proyecto]",
   "language": "python",
   "name": "conda-env-proyecto-py"
  },
  "language_info": {
   "codemirror_mode": {
    "name": "ipython",
    "version": 3
   },
   "file_extension": ".py",
   "mimetype": "text/x-python",
   "name": "python",
   "nbconvert_exporter": "python",
   "pygments_lexer": "ipython3",
   "version": "3.12.9"
  }
 },
 "nbformat": 4,
 "nbformat_minor": 5
}
